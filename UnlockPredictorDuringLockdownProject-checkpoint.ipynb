{
 "cells": [
  {
   "cell_type": "code",
   "execution_count": 2,
   "id": "5a1b615d",
   "metadata": {},
   "outputs": [],
   "source": [
    "import mysql.connector\n",
    "from mysql.connector import Error\n",
    "import pandas as pd\n",
    "import seaborn as sns"
   ]
  },
  {
   "cell_type": "code",
   "execution_count": 4,
   "id": "a698a328",
   "metadata": {},
   "outputs": [
    {
     "name": "stdout",
     "output_type": "stream",
     "text": [
      "MySQL Database connection successful!\n"
     ]
    }
   ],
   "source": [
    "def create_server_connection(host_name, user_name, user_password):\n",
    "    connection = None\n",
    "    try:\n",
    "        connection = mysql.connector.connect(\n",
    "           host = host_name,\n",
    "           user = user_name,\n",
    "           passwd = user_password\n",
    "        )\n",
    "        print(\"MySQL Database connection successful!\")\n",
    "    except Error as err:\n",
    "        print(f\"Error: '{err}'\")\n",
    "    return connection\n",
    "#put MySQL Terminal password\n",
    "pw = \"Guddu@2002\" \n",
    "#Database name\n",
    "db = \"mysql_python\"\n",
    "connection = create_server_connection(\"localhost\",\"root\",pw)\n"
   ]
  },
  {
   "cell_type": "code",
   "execution_count": 5,
   "id": "19f8dffb",
   "metadata": {},
   "outputs": [
    {
     "name": "stdout",
     "output_type": "stream",
     "text": [
      "Error: '1007 (HY000): Can't create database 'mysql_python'; database exists'\n"
     ]
    }
   ],
   "source": [
    "#create mysql_python databse\n",
    "def create_database(connection,query):\n",
    "    cursor = connection.cursor()\n",
    "    try:\n",
    "        cursor.execute(query)\n",
    "        print(\"Database created successfully!\")\n",
    "    except Error as err:\n",
    "        print(f\"Error: '{err}'\")\n",
    "create_database_query = \"Create database mysql_python\"\n",
    "create_database(connection, create_database_query)"
   ]
  },
  {
   "cell_type": "code",
   "execution_count": 6,
   "id": "a3a5bf08",
   "metadata": {},
   "outputs": [],
   "source": [
    "#connect to database\n",
    "def create_db_connection(host_name, user_name, user_password, db_name):\n",
    "    connection = None\n",
    "    try:\n",
    "        connection = mysql.connector.connect(\n",
    "           host = host_name,\n",
    "           user = user_name,\n",
    "           passwd = user_password,\n",
    "           database = db_name)\n",
    "        print(\"MySQL Database connection successful!\")\n",
    "    except Error as err:\n",
    "        print(f\"Error: '{err}'\")\n",
    "    return connection"
   ]
  },
  {
   "cell_type": "code",
   "execution_count": 7,
   "id": "4ef0a8bf",
   "metadata": {},
   "outputs": [],
   "source": [
    "#Execution of queries\n",
    "def execute_query(connection, query):\n",
    "    cursor = connection.cursor()\n",
    "    try:\n",
    "        cursor.execute(query)\n",
    "        connection.commit()\n",
    "        print(\"Query was successfully executed!\")\n",
    "    except Error as err:\n",
    "        print(f\"Error: '{err}'\")"
   ]
  },
  {
   "cell_type": "code",
   "execution_count": 8,
   "id": "16ce1c08",
   "metadata": {},
   "outputs": [
    {
     "name": "stdout",
     "output_type": "stream",
     "text": [
      "MySQL Database connection successful!\n",
      "Error: '1050 (42S01): Table 'cases' already exists'\n"
     ]
    }
   ],
   "source": [
    "create_cases_perday_table = \"\"\"\n",
    "create table cases(\n",
    "date_of_obs date,\n",
    "daily_confirmed int,\n",
    "total_confirmed int,\n",
    "daily_recovered int,\n",
    "total_recovered int,\n",
    "daily_deaths int,\n",
    "total_deaths int,\n",
    "unlock_or_lock varchar(10)); \n",
    "\"\"\"\n",
    "#connect to db\n",
    "connection = create_db_connection(\"localhost\", \"root\" , pw, db)\n",
    "execute_query(connection, create_cases_perday_table)"
   ]
  },
  {
   "cell_type": "code",
   "execution_count": 9,
   "id": "eef5f171",
   "metadata": {},
   "outputs": [
    {
     "name": "stdout",
     "output_type": "stream",
     "text": [
      "MySQL Database connection successful!\n",
      "Query was successfully executed!\n"
     ]
    }
   ],
   "source": [
    "#Insert data\n",
    "#dataset fetched from kaggle\n",
    "data_cases = \"\"\"\n",
    "insert into cases values\n",
    "('2020-03-15',10,112,3,13,0,2, 'unlock'),\n",
    "('2020-03-16',14,126,1,15,1,3, 'unlock'),\n",
    "('2020-03-17',20,146,1,15,1,3, 'unlock'),\n",
    "('2020-03-18',25,171,0,15,0,3, 'unlock'),\n",
    "('2020-03-19',27,198,5,20,1,4, 'unlock'),\n",
    "('2020-03-20',58,256,3,23,0,4, 'unlock'),\n",
    "('2020-03-21',78,334,0,23,0,4, 'unlock'),\n",
    "('2020-04-22',69,403,0,23,3,7, 'unlock'),\n",
    "('2020-04-23',94,497,2,25,2,9, 'unlock'),\n",
    "('2020-04-24',74,571,15,40,1,10,'unlock'),\n",
    "('2020-03-25',86,657,3,43,1,11,'lockdown'),\n",
    "('2020-03-26',73,730,7,50,5,16,'lockdown'),\n",
    "('2020-03-27',153,883,25,75,3,19,'lockdown'),\n",
    "('2020-03-28',136,1019,10,85,5,24,'lockdown'),\n",
    "('2020-03-29',120,1139,17,102,3,27,'lockdown'),\n",
    "('2020-03-30',187,1326,35,137,14,41,'lockdown'),\n",
    "('2020-03-31',309,1635,13,150,6,47,'lockdown'),\n",
    "('2020-04-01',424,2059,19,169,6,53,'lockdown'),\n",
    "('2020-04-02',486,2545,22,191,16,69,'lockdown'),\n",
    "('2020-04-03',560,3105,39,230,14,83,'lockdown'),\n",
    "('2020-04-04',579,3684,56,286,13,96,'lockdown'),\n",
    "('2020-04-05',609,4293,43,329,22,118,'lockdown'),\n",
    "('2020-04-06',484,4777,65,394,16,134,'lockdown'),\n",
    "('2020-04-07',573,5350,75,469,27,161,'lockdown'),\n",
    "('2020-04-08',565,5915,96,565,20,181,'lockdown'),\n",
    "('2020-04-09',813,6728,70,635,46,227,'lockdown'),\n",
    "('2020-04-10',871,7599,151,786,22,249,'lockdown'),\n",
    "('2020-04-11',854,8453,186,972,41,290,'lockdown'),\n",
    "('2020-04-12',758,9211,114,1086,42,332,'lockdown'),\n",
    "('2020-04-13',1243,10454,112,1198,27,359,'lockdown'),\n",
    "('2020-04-14',1031,11485,167,1365,37,396,'lockdown'),\n",
    "('2020-04-15',886,12371,144,1509,27,423,'lockdown'),\n",
    "('2020-04-16',1061,13432,258,1767,26,449,'lockdown'),\n",
    "('2020-04-17',922,14354,273,2040,38,487,'lockdown'),\n",
    "('2020-04-18',1371,15725,426,2466,35,522,'lockdown'),\n",
    "('2020-04-19',1580,17305,388,2854,38,560,'lockdown'),\n",
    "('2020-04-20',1239,18544,419,3273,33,593,'lockdown'),\n",
    "('2020-04-21',1537,20081,703,3976,53,646,'lockdown'),\n",
    "('2020-04-22',1292,21373,394,4370,36,682,'lockdown'),\n",
    "('2020-04-23',1667,23040,642,5012,40,722,'lockdown'),\n",
    "('2020-04-24',1408,24448,484,5496,59,781,'lockdown'),\n",
    "('2020-04-25',1835,26283,442,5938,44,825,'lockdown'),\n",
    "('2020-04-26',1607,27890,585,6523,56,881,'lockdown'),\n",
    "('2020-04-27',1568,29458,580,7103,58,939,'lockdown'),\n",
    "('2020-04-28',1902,31360,636,7739,69,1008,'lockdown'),\n",
    "('2020-04-29',1705,33065,690,8429,71,1079,'lockdown'),\n",
    "('2020-04-30',1801,34866,630,9059,75,1154,'lockdown'),\n",
    "('2020-05-01',2396,37262,962,10021,77,1231,'lockdown'),\n",
    "('2020-05-02',2564,39826,831,10852,92,1323,'lockdown'),\n",
    "('2020-05-03',2952,42778,911,11763,140,1463,'lockdown'),\n",
    "('2020-05-04',3656,46434,1082,12845,103,1566,'lockdown'),\n",
    "('2020-05-05',2971,49405,1295,14140,128,1694,'lockdown'),\n",
    "('2020-05-06',3602,53007,1161,15301,91,1785,'lockdown'),\n",
    "('2020-05-07',3344,56351,1475,16776,104,1889,'lockdown'),\n",
    "('2020-05-08',3339,59690,1111,17887,97,1986,'lockdown'),\n",
    "('2020-05-09',3175,62865,1414,19301,115,2101,'lockdown'),\n",
    "('2020-05-10',4311,67176,1669,20970,112,2213,'lockdown'),\n",
    "('2020-05-11',3592,70768,1579,22549,81,2294,'lockdown'),\n",
    "('2020-05-12',3562,74330,1905,24454,120,2414,'lockdown'),\n",
    "('2020-05-13',3726,78056,1963,26417,137,359,'lockdown'),\n",
    "('2020-05-14',3991,82047,1594,28011,97,2648,'lockdown'),\n",
    "('2020-05-15',3808,85855,2234,30245,104,2752,'lockdown'),\n",
    "('2020-05-16',4796,90649,4012,34257,120,2872,'lockdown'),\n",
    "('2020-05-17',5049,95698,2538,36795,152,3024,'lockdown'),\n",
    "('2020-05-18',4628,100326,2482,39277,121,3155,'lockdown'),\n",
    "('2020-05-19',6154,106480,3032,42309,146,3301,'lockdown'),\n",
    "('2020-05-20',5720,112200,3113,45422,134,3435,'lockdown'),\n",
    "('2020-05-21',6023,118223,3131,48553,148,3582,'lockdown'),\n",
    "('2020-05-22',6536,124759,3280,51833,142,3725,'lockdown'),\n",
    "('2020-05-23',6667,131424,2576,54409,142,3867,'lockdown'),\n",
    "('2020-05-24',7111,138537,3285,57694,156,4023,'lockdown'),\n",
    "('2020-05-25',6414,144951,3012,60706,150,4173,'lockdown'),\n",
    "('2020-05-26',5907,150858,3585,64291,173,4346,'lockdown'),\n",
    "('2020-05-27',7246,158104,3434,67725,188,4534,'lockdown'),\n",
    "('2020-05-28',7254,165358,3171,70896,176,4710,'lockdown'),\n",
    "('2020-05-29',8183,173496,11735,82631,269,4979,'lockdown'),\n",
    "('2020-05-30',8364,181860,4303,86934,205,5184,'lockdown'),\n",
    "('2020-05-31',8789,190649,4928,91862,222,5406,'lockdown'),\n",
    "('2020-06-01',7723,198372,3882,95744,201,5607,'unlock'),\n",
    "('2020-06-02',8812,207187,4531,100275,222,5829,'unlock'),\n",
    "('2020-06-03',9689,216876,3789,104064,259,6088,'unlock'),\n",
    "('2020-06-04',9847,226723,4390,108454,274,6362,'unlock'),\n",
    "('2020-06-05',9472,236195,4770,113224,286,6648,'unlock'),\n",
    "('2020-06-06',10408,246603,5433,118657,297,6945,'unlock'),\n",
    "('2020-06-07',10882,257485,5191,123848,261,7206,'unlock'),\n",
    "('2020-06-08',8536,266021,5171,129019,271,7477,'unlock'),\n",
    "('2020-06-09',9981,276002,5634,134653,272,7749,'unlock'),\n",
    "('2020-06-10',11156,287158,6275,140928,358,8107,'unlock');\n",
    "\"\"\"\n",
    "connection = create_db_connection(\"localhost\", \"root\", pw, db)\n",
    "execute_query(connection, data_cases)"
   ]
  },
  {
   "cell_type": "code",
   "execution_count": 10,
   "id": "1ede9a96",
   "metadata": {},
   "outputs": [],
   "source": [
    "def read_query(connection, query):\n",
    "    cursor = connection.cursor();\n",
    "    result= None\n",
    "    try:\n",
    "        cursor.execute(query)\n",
    "        result = cursor.fetchall()\n",
    "        return result\n",
    "    except Error as err:\n",
    "        print(f\"Error: '{err}'\") "
   ]
  },
  {
   "cell_type": "code",
   "execution_count": 11,
   "id": "7ab90b9b",
   "metadata": {},
   "outputs": [
    {
     "name": "stdout",
     "output_type": "stream",
     "text": [
      "MySQL Database connection successful!\n",
      "(datetime.date(2020, 3, 15), 10, 112, 3, 13, 0, 2, 'unlock')\n",
      "(datetime.date(2020, 3, 16), 14, 126, 1, 15, 1, 3, 'unlock')\n",
      "(datetime.date(2020, 3, 17), 20, 146, 1, 15, 1, 3, 'unlock')\n",
      "(datetime.date(2020, 3, 18), 25, 171, 0, 15, 0, 3, 'unlock')\n",
      "(datetime.date(2020, 3, 19), 27, 198, 5, 20, 1, 4, 'unlock')\n",
      "(datetime.date(2020, 3, 20), 58, 256, 3, 23, 0, 4, 'unlock')\n",
      "(datetime.date(2020, 3, 21), 78, 334, 0, 23, 0, 4, 'unlock')\n",
      "(datetime.date(2020, 4, 22), 69, 403, 0, 23, 3, 7, 'unlock')\n",
      "(datetime.date(2020, 4, 23), 94, 497, 2, 25, 2, 9, 'unlock')\n",
      "(datetime.date(2020, 4, 24), 74, 571, 15, 40, 1, 10, 'unlock')\n",
      "(datetime.date(2020, 3, 25), 86, 657, 3, 43, 1, 11, 'lockdown')\n",
      "(datetime.date(2020, 3, 26), 73, 730, 7, 50, 5, 16, 'lockdown')\n",
      "(datetime.date(2020, 3, 27), 153, 883, 25, 75, 3, 19, 'lockdown')\n",
      "(datetime.date(2020, 3, 28), 136, 1019, 10, 85, 5, 24, 'lockdown')\n",
      "(datetime.date(2020, 3, 29), 120, 1139, 17, 102, 3, 27, 'lockdown')\n",
      "(datetime.date(2020, 3, 30), 187, 1326, 35, 137, 14, 41, 'lockdown')\n",
      "(datetime.date(2020, 3, 31), 309, 1635, 13, 150, 6, 47, 'lockdown')\n",
      "(datetime.date(2020, 4, 1), 424, 2059, 19, 169, 6, 53, 'lockdown')\n",
      "(datetime.date(2020, 4, 2), 486, 2545, 22, 191, 16, 69, 'lockdown')\n",
      "(datetime.date(2020, 4, 3), 560, 3105, 39, 230, 14, 83, 'lockdown')\n",
      "(datetime.date(2020, 4, 4), 579, 3684, 56, 286, 13, 96, 'lockdown')\n",
      "(datetime.date(2020, 4, 5), 609, 4293, 43, 329, 22, 118, 'lockdown')\n",
      "(datetime.date(2020, 4, 6), 484, 4777, 65, 394, 16, 134, 'lockdown')\n",
      "(datetime.date(2020, 4, 7), 573, 5350, 75, 469, 27, 161, 'lockdown')\n",
      "(datetime.date(2020, 4, 8), 565, 5915, 96, 565, 20, 181, 'lockdown')\n",
      "(datetime.date(2020, 4, 9), 813, 6728, 70, 635, 46, 227, 'lockdown')\n",
      "(datetime.date(2020, 4, 10), 871, 7599, 151, 786, 22, 249, 'lockdown')\n",
      "(datetime.date(2020, 4, 11), 854, 8453, 186, 972, 41, 290, 'lockdown')\n",
      "(datetime.date(2020, 4, 12), 758, 9211, 114, 1086, 42, 332, 'lockdown')\n",
      "(datetime.date(2020, 4, 13), 1243, 10454, 112, 1198, 27, 359, 'lockdown')\n",
      "(datetime.date(2020, 4, 14), 1031, 11485, 167, 1365, 37, 396, 'lockdown')\n",
      "(datetime.date(2020, 4, 15), 886, 12371, 144, 1509, 27, 423, 'lockdown')\n",
      "(datetime.date(2020, 4, 16), 1061, 13432, 258, 1767, 26, 449, 'lockdown')\n",
      "(datetime.date(2020, 4, 17), 922, 14354, 273, 2040, 38, 487, 'lockdown')\n",
      "(datetime.date(2020, 4, 18), 1371, 15725, 426, 2466, 35, 522, 'lockdown')\n",
      "(datetime.date(2020, 4, 19), 1580, 17305, 388, 2854, 38, 560, 'lockdown')\n",
      "(datetime.date(2020, 4, 20), 1239, 18544, 419, 3273, 33, 593, 'lockdown')\n",
      "(datetime.date(2020, 4, 21), 1537, 20081, 703, 3976, 53, 646, 'lockdown')\n",
      "(datetime.date(2020, 4, 22), 1292, 21373, 394, 4370, 36, 682, 'lockdown')\n",
      "(datetime.date(2020, 4, 23), 1667, 23040, 642, 5012, 40, 722, 'lockdown')\n",
      "(datetime.date(2020, 4, 24), 1408, 24448, 484, 5496, 59, 781, 'lockdown')\n",
      "(datetime.date(2020, 4, 25), 1835, 26283, 442, 5938, 44, 825, 'lockdown')\n",
      "(datetime.date(2020, 4, 26), 1607, 27890, 585, 6523, 56, 881, 'lockdown')\n",
      "(datetime.date(2020, 4, 27), 1568, 29458, 580, 7103, 58, 939, 'lockdown')\n",
      "(datetime.date(2020, 4, 28), 1902, 31360, 636, 7739, 69, 1008, 'lockdown')\n",
      "(datetime.date(2020, 4, 29), 1705, 33065, 690, 8429, 71, 1079, 'lockdown')\n",
      "(datetime.date(2020, 4, 30), 1801, 34866, 630, 9059, 75, 1154, 'lockdown')\n",
      "(datetime.date(2020, 5, 1), 2396, 37262, 962, 10021, 77, 1231, 'lockdown')\n",
      "(datetime.date(2020, 5, 2), 2564, 39826, 831, 10852, 92, 1323, 'lockdown')\n",
      "(datetime.date(2020, 5, 3), 2952, 42778, 911, 11763, 140, 1463, 'lockdown')\n",
      "(datetime.date(2020, 5, 4), 3656, 46434, 1082, 12845, 103, 1566, 'lockdown')\n",
      "(datetime.date(2020, 5, 5), 2971, 49405, 1295, 14140, 128, 1694, 'lockdown')\n",
      "(datetime.date(2020, 5, 6), 3602, 53007, 1161, 15301, 91, 1785, 'lockdown')\n",
      "(datetime.date(2020, 5, 7), 3344, 56351, 1475, 16776, 104, 1889, 'lockdown')\n",
      "(datetime.date(2020, 5, 8), 3339, 59690, 1111, 17887, 97, 1986, 'lockdown')\n",
      "(datetime.date(2020, 5, 9), 3175, 62865, 1414, 19301, 115, 2101, 'lockdown')\n",
      "(datetime.date(2020, 5, 10), 4311, 67176, 1669, 20970, 112, 2213, 'lockdown')\n",
      "(datetime.date(2020, 5, 11), 3592, 70768, 1579, 22549, 81, 2294, 'lockdown')\n",
      "(datetime.date(2020, 5, 12), 3562, 74330, 1905, 24454, 120, 2414, 'lockdown')\n",
      "(datetime.date(2020, 5, 13), 3726, 78056, 1963, 26417, 137, 359, 'lockdown')\n",
      "(datetime.date(2020, 5, 14), 3991, 82047, 1594, 28011, 97, 2648, 'lockdown')\n",
      "(datetime.date(2020, 5, 15), 3808, 85855, 2234, 30245, 104, 2752, 'lockdown')\n",
      "(datetime.date(2020, 5, 16), 4796, 90649, 4012, 34257, 120, 2872, 'lockdown')\n",
      "(datetime.date(2020, 5, 17), 5049, 95698, 2538, 36795, 152, 3024, 'lockdown')\n",
      "(datetime.date(2020, 5, 18), 4628, 100326, 2482, 39277, 121, 3155, 'lockdown')\n",
      "(datetime.date(2020, 5, 19), 6154, 106480, 3032, 42309, 146, 3301, 'lockdown')\n",
      "(datetime.date(2020, 5, 20), 5720, 112200, 3113, 45422, 134, 3435, 'lockdown')\n",
      "(datetime.date(2020, 5, 21), 6023, 118223, 3131, 48553, 148, 3582, 'lockdown')\n",
      "(datetime.date(2020, 5, 22), 6536, 124759, 3280, 51833, 142, 3725, 'lockdown')\n",
      "(datetime.date(2020, 5, 23), 6667, 131424, 2576, 54409, 142, 3867, 'lockdown')\n",
      "(datetime.date(2020, 5, 24), 7111, 138537, 3285, 57694, 156, 4023, 'lockdown')\n",
      "(datetime.date(2020, 5, 25), 6414, 144951, 3012, 60706, 150, 4173, 'lockdown')\n",
      "(datetime.date(2020, 5, 26), 5907, 150858, 3585, 64291, 173, 4346, 'lockdown')\n",
      "(datetime.date(2020, 5, 27), 7246, 158104, 3434, 67725, 188, 4534, 'lockdown')\n",
      "(datetime.date(2020, 5, 28), 7254, 165358, 3171, 70896, 176, 4710, 'lockdown')\n",
      "(datetime.date(2020, 5, 29), 8183, 173496, 11735, 82631, 269, 4979, 'lockdown')\n",
      "(datetime.date(2020, 5, 30), 8364, 181860, 4303, 86934, 205, 5184, 'lockdown')\n",
      "(datetime.date(2020, 5, 31), 8789, 190649, 4928, 91862, 222, 5406, 'lockdown')\n",
      "(datetime.date(2020, 6, 1), 7723, 198372, 3882, 95744, 201, 5607, 'unlock')\n",
      "(datetime.date(2020, 6, 2), 8812, 207187, 4531, 100275, 222, 5829, 'unlock')\n",
      "(datetime.date(2020, 6, 3), 9689, 216876, 3789, 104064, 259, 6088, 'unlock')\n",
      "(datetime.date(2020, 6, 4), 9847, 226723, 4390, 108454, 274, 6362, 'unlock')\n",
      "(datetime.date(2020, 6, 5), 9472, 236195, 4770, 113224, 286, 6648, 'unlock')\n",
      "(datetime.date(2020, 6, 6), 10408, 246603, 5433, 118657, 297, 6945, 'unlock')\n",
      "(datetime.date(2020, 6, 7), 10882, 257485, 5191, 123848, 261, 7206, 'unlock')\n",
      "(datetime.date(2020, 6, 8), 8536, 266021, 5171, 129019, 271, 7477, 'unlock')\n",
      "(datetime.date(2020, 6, 9), 9981, 276002, 5634, 134653, 272, 7749, 'unlock')\n",
      "(datetime.date(2020, 6, 10), 11156, 287158, 6275, 140928, 358, 8107, 'unlock')\n",
      "(datetime.date(2020, 3, 15), 10, 112, 3, 13, 0, 2, 'unlock')\n",
      "(datetime.date(2020, 3, 16), 14, 126, 1, 15, 1, 3, 'unlock')\n",
      "(datetime.date(2020, 3, 17), 20, 146, 1, 15, 1, 3, 'unlock')\n",
      "(datetime.date(2020, 3, 18), 25, 171, 0, 15, 0, 3, 'unlock')\n",
      "(datetime.date(2020, 3, 19), 27, 198, 5, 20, 1, 4, 'unlock')\n",
      "(datetime.date(2020, 3, 20), 58, 256, 3, 23, 0, 4, 'unlock')\n",
      "(datetime.date(2020, 3, 21), 78, 334, 0, 23, 0, 4, 'unlock')\n",
      "(datetime.date(2020, 4, 22), 69, 403, 0, 23, 3, 7, 'unlock')\n",
      "(datetime.date(2020, 4, 23), 94, 497, 2, 25, 2, 9, 'unlock')\n",
      "(datetime.date(2020, 4, 24), 74, 571, 15, 40, 1, 10, 'unlock')\n",
      "(datetime.date(2020, 3, 25), 86, 657, 3, 43, 1, 11, 'lockdown')\n",
      "(datetime.date(2020, 3, 26), 73, 730, 7, 50, 5, 16, 'lockdown')\n",
      "(datetime.date(2020, 3, 27), 153, 883, 25, 75, 3, 19, 'lockdown')\n",
      "(datetime.date(2020, 3, 28), 136, 1019, 10, 85, 5, 24, 'lockdown')\n",
      "(datetime.date(2020, 3, 29), 120, 1139, 17, 102, 3, 27, 'lockdown')\n",
      "(datetime.date(2020, 3, 30), 187, 1326, 35, 137, 14, 41, 'lockdown')\n",
      "(datetime.date(2020, 3, 31), 309, 1635, 13, 150, 6, 47, 'lockdown')\n",
      "(datetime.date(2020, 4, 1), 424, 2059, 19, 169, 6, 53, 'lockdown')\n",
      "(datetime.date(2020, 4, 2), 486, 2545, 22, 191, 16, 69, 'lockdown')\n",
      "(datetime.date(2020, 4, 3), 560, 3105, 39, 230, 14, 83, 'lockdown')\n",
      "(datetime.date(2020, 4, 4), 579, 3684, 56, 286, 13, 96, 'lockdown')\n",
      "(datetime.date(2020, 4, 5), 609, 4293, 43, 329, 22, 118, 'lockdown')\n",
      "(datetime.date(2020, 4, 6), 484, 4777, 65, 394, 16, 134, 'lockdown')\n",
      "(datetime.date(2020, 4, 7), 573, 5350, 75, 469, 27, 161, 'lockdown')\n",
      "(datetime.date(2020, 4, 8), 565, 5915, 96, 565, 20, 181, 'lockdown')\n",
      "(datetime.date(2020, 4, 9), 813, 6728, 70, 635, 46, 227, 'lockdown')\n",
      "(datetime.date(2020, 4, 10), 871, 7599, 151, 786, 22, 249, 'lockdown')\n",
      "(datetime.date(2020, 4, 11), 854, 8453, 186, 972, 41, 290, 'lockdown')\n",
      "(datetime.date(2020, 4, 12), 758, 9211, 114, 1086, 42, 332, 'lockdown')\n",
      "(datetime.date(2020, 4, 13), 1243, 10454, 112, 1198, 27, 359, 'lockdown')\n",
      "(datetime.date(2020, 4, 14), 1031, 11485, 167, 1365, 37, 396, 'lockdown')\n",
      "(datetime.date(2020, 4, 15), 886, 12371, 144, 1509, 27, 423, 'lockdown')\n",
      "(datetime.date(2020, 4, 16), 1061, 13432, 258, 1767, 26, 449, 'lockdown')\n",
      "(datetime.date(2020, 4, 17), 922, 14354, 273, 2040, 38, 487, 'lockdown')\n",
      "(datetime.date(2020, 4, 18), 1371, 15725, 426, 2466, 35, 522, 'lockdown')\n",
      "(datetime.date(2020, 4, 19), 1580, 17305, 388, 2854, 38, 560, 'lockdown')\n",
      "(datetime.date(2020, 4, 20), 1239, 18544, 419, 3273, 33, 593, 'lockdown')\n",
      "(datetime.date(2020, 4, 21), 1537, 20081, 703, 3976, 53, 646, 'lockdown')\n",
      "(datetime.date(2020, 4, 22), 1292, 21373, 394, 4370, 36, 682, 'lockdown')\n",
      "(datetime.date(2020, 4, 23), 1667, 23040, 642, 5012, 40, 722, 'lockdown')\n",
      "(datetime.date(2020, 4, 24), 1408, 24448, 484, 5496, 59, 781, 'lockdown')\n",
      "(datetime.date(2020, 4, 25), 1835, 26283, 442, 5938, 44, 825, 'lockdown')\n",
      "(datetime.date(2020, 4, 26), 1607, 27890, 585, 6523, 56, 881, 'lockdown')\n",
      "(datetime.date(2020, 4, 27), 1568, 29458, 580, 7103, 58, 939, 'lockdown')\n",
      "(datetime.date(2020, 4, 28), 1902, 31360, 636, 7739, 69, 1008, 'lockdown')\n",
      "(datetime.date(2020, 4, 29), 1705, 33065, 690, 8429, 71, 1079, 'lockdown')\n",
      "(datetime.date(2020, 4, 30), 1801, 34866, 630, 9059, 75, 1154, 'lockdown')\n",
      "(datetime.date(2020, 5, 1), 2396, 37262, 962, 10021, 77, 1231, 'lockdown')\n",
      "(datetime.date(2020, 5, 2), 2564, 39826, 831, 10852, 92, 1323, 'lockdown')\n",
      "(datetime.date(2020, 5, 3), 2952, 42778, 911, 11763, 140, 1463, 'lockdown')\n",
      "(datetime.date(2020, 5, 4), 3656, 46434, 1082, 12845, 103, 1566, 'lockdown')\n",
      "(datetime.date(2020, 5, 5), 2971, 49405, 1295, 14140, 128, 1694, 'lockdown')\n",
      "(datetime.date(2020, 5, 6), 3602, 53007, 1161, 15301, 91, 1785, 'lockdown')\n",
      "(datetime.date(2020, 5, 7), 3344, 56351, 1475, 16776, 104, 1889, 'lockdown')\n",
      "(datetime.date(2020, 5, 8), 3339, 59690, 1111, 17887, 97, 1986, 'lockdown')\n",
      "(datetime.date(2020, 5, 9), 3175, 62865, 1414, 19301, 115, 2101, 'lockdown')\n",
      "(datetime.date(2020, 5, 10), 4311, 67176, 1669, 20970, 112, 2213, 'lockdown')\n",
      "(datetime.date(2020, 5, 11), 3592, 70768, 1579, 22549, 81, 2294, 'lockdown')\n",
      "(datetime.date(2020, 5, 12), 3562, 74330, 1905, 24454, 120, 2414, 'lockdown')\n",
      "(datetime.date(2020, 5, 13), 3726, 78056, 1963, 26417, 137, 359, 'lockdown')\n",
      "(datetime.date(2020, 5, 14), 3991, 82047, 1594, 28011, 97, 2648, 'lockdown')\n",
      "(datetime.date(2020, 5, 15), 3808, 85855, 2234, 30245, 104, 2752, 'lockdown')\n",
      "(datetime.date(2020, 5, 16), 4796, 90649, 4012, 34257, 120, 2872, 'lockdown')\n",
      "(datetime.date(2020, 5, 17), 5049, 95698, 2538, 36795, 152, 3024, 'lockdown')\n",
      "(datetime.date(2020, 5, 18), 4628, 100326, 2482, 39277, 121, 3155, 'lockdown')\n",
      "(datetime.date(2020, 5, 19), 6154, 106480, 3032, 42309, 146, 3301, 'lockdown')\n",
      "(datetime.date(2020, 5, 20), 5720, 112200, 3113, 45422, 134, 3435, 'lockdown')\n",
      "(datetime.date(2020, 5, 21), 6023, 118223, 3131, 48553, 148, 3582, 'lockdown')\n",
      "(datetime.date(2020, 5, 22), 6536, 124759, 3280, 51833, 142, 3725, 'lockdown')\n",
      "(datetime.date(2020, 5, 23), 6667, 131424, 2576, 54409, 142, 3867, 'lockdown')\n",
      "(datetime.date(2020, 5, 24), 7111, 138537, 3285, 57694, 156, 4023, 'lockdown')\n",
      "(datetime.date(2020, 5, 25), 6414, 144951, 3012, 60706, 150, 4173, 'lockdown')\n",
      "(datetime.date(2020, 5, 26), 5907, 150858, 3585, 64291, 173, 4346, 'lockdown')\n",
      "(datetime.date(2020, 5, 27), 7246, 158104, 3434, 67725, 188, 4534, 'lockdown')\n",
      "(datetime.date(2020, 5, 28), 7254, 165358, 3171, 70896, 176, 4710, 'lockdown')\n",
      "(datetime.date(2020, 5, 29), 8183, 173496, 11735, 82631, 269, 4979, 'lockdown')\n",
      "(datetime.date(2020, 5, 30), 8364, 181860, 4303, 86934, 205, 5184, 'lockdown')\n",
      "(datetime.date(2020, 5, 31), 8789, 190649, 4928, 91862, 222, 5406, 'lockdown')\n",
      "(datetime.date(2020, 6, 1), 7723, 198372, 3882, 95744, 201, 5607, 'unlock')\n",
      "(datetime.date(2020, 6, 2), 8812, 207187, 4531, 100275, 222, 5829, 'unlock')\n",
      "(datetime.date(2020, 6, 3), 9689, 216876, 3789, 104064, 259, 6088, 'unlock')\n",
      "(datetime.date(2020, 6, 4), 9847, 226723, 4390, 108454, 274, 6362, 'unlock')\n",
      "(datetime.date(2020, 6, 5), 9472, 236195, 4770, 113224, 286, 6648, 'unlock')\n",
      "(datetime.date(2020, 6, 6), 10408, 246603, 5433, 118657, 297, 6945, 'unlock')\n",
      "(datetime.date(2020, 6, 7), 10882, 257485, 5191, 123848, 261, 7206, 'unlock')\n",
      "(datetime.date(2020, 6, 8), 8536, 266021, 5171, 129019, 271, 7477, 'unlock')\n",
      "(datetime.date(2020, 6, 9), 9981, 276002, 5634, 134653, 272, 7749, 'unlock')\n",
      "(datetime.date(2020, 6, 10), 11156, 287158, 6275, 140928, 358, 8107, 'unlock')\n"
     ]
    }
   ],
   "source": [
    "#displaying data table\n",
    "q1 = \"\"\"\n",
    "select * from cases;\n",
    "\"\"\"\n",
    "connection = create_db_connection(\"localhost\", \"root\", pw, db)\n",
    "results = read_query(connection, q1)\n",
    "for result in results:\n",
    "    print(result)"
   ]
  },
  {
   "cell_type": "code",
   "execution_count": 12,
   "id": "33be736d",
   "metadata": {},
   "outputs": [
    {
     "data": {
      "text/html": [
       "<div>\n",
       "<style scoped>\n",
       "    .dataframe tbody tr th:only-of-type {\n",
       "        vertical-align: middle;\n",
       "    }\n",
       "\n",
       "    .dataframe tbody tr th {\n",
       "        vertical-align: top;\n",
       "    }\n",
       "\n",
       "    .dataframe thead th {\n",
       "        text-align: right;\n",
       "    }\n",
       "</style>\n",
       "<table border=\"1\" class=\"dataframe\">\n",
       "  <thead>\n",
       "    <tr style=\"text-align: right;\">\n",
       "      <th></th>\n",
       "      <th>date_of_obs</th>\n",
       "      <th>daily_confirmed</th>\n",
       "      <th>total_confirmed</th>\n",
       "      <th>daily_recovered</th>\n",
       "      <th>total_recovered</th>\n",
       "      <th>daily_deaths</th>\n",
       "      <th>total_deaths</th>\n",
       "      <th>unlock_or_lock</th>\n",
       "    </tr>\n",
       "  </thead>\n",
       "  <tbody>\n",
       "    <tr>\n",
       "      <th>0</th>\n",
       "      <td>2020-03-15</td>\n",
       "      <td>10</td>\n",
       "      <td>112</td>\n",
       "      <td>3</td>\n",
       "      <td>13</td>\n",
       "      <td>0</td>\n",
       "      <td>2</td>\n",
       "      <td>unlock</td>\n",
       "    </tr>\n",
       "    <tr>\n",
       "      <th>1</th>\n",
       "      <td>2020-03-16</td>\n",
       "      <td>14</td>\n",
       "      <td>126</td>\n",
       "      <td>1</td>\n",
       "      <td>15</td>\n",
       "      <td>1</td>\n",
       "      <td>3</td>\n",
       "      <td>unlock</td>\n",
       "    </tr>\n",
       "    <tr>\n",
       "      <th>2</th>\n",
       "      <td>2020-03-17</td>\n",
       "      <td>20</td>\n",
       "      <td>146</td>\n",
       "      <td>1</td>\n",
       "      <td>15</td>\n",
       "      <td>1</td>\n",
       "      <td>3</td>\n",
       "      <td>unlock</td>\n",
       "    </tr>\n",
       "    <tr>\n",
       "      <th>3</th>\n",
       "      <td>2020-03-18</td>\n",
       "      <td>25</td>\n",
       "      <td>171</td>\n",
       "      <td>0</td>\n",
       "      <td>15</td>\n",
       "      <td>0</td>\n",
       "      <td>3</td>\n",
       "      <td>unlock</td>\n",
       "    </tr>\n",
       "    <tr>\n",
       "      <th>4</th>\n",
       "      <td>2020-03-19</td>\n",
       "      <td>27</td>\n",
       "      <td>198</td>\n",
       "      <td>5</td>\n",
       "      <td>20</td>\n",
       "      <td>1</td>\n",
       "      <td>4</td>\n",
       "      <td>unlock</td>\n",
       "    </tr>\n",
       "    <tr>\n",
       "      <th>...</th>\n",
       "      <td>...</td>\n",
       "      <td>...</td>\n",
       "      <td>...</td>\n",
       "      <td>...</td>\n",
       "      <td>...</td>\n",
       "      <td>...</td>\n",
       "      <td>...</td>\n",
       "      <td>...</td>\n",
       "    </tr>\n",
       "    <tr>\n",
       "      <th>171</th>\n",
       "      <td>2020-06-06</td>\n",
       "      <td>10408</td>\n",
       "      <td>246603</td>\n",
       "      <td>5433</td>\n",
       "      <td>118657</td>\n",
       "      <td>297</td>\n",
       "      <td>6945</td>\n",
       "      <td>unlock</td>\n",
       "    </tr>\n",
       "    <tr>\n",
       "      <th>172</th>\n",
       "      <td>2020-06-07</td>\n",
       "      <td>10882</td>\n",
       "      <td>257485</td>\n",
       "      <td>5191</td>\n",
       "      <td>123848</td>\n",
       "      <td>261</td>\n",
       "      <td>7206</td>\n",
       "      <td>unlock</td>\n",
       "    </tr>\n",
       "    <tr>\n",
       "      <th>173</th>\n",
       "      <td>2020-06-08</td>\n",
       "      <td>8536</td>\n",
       "      <td>266021</td>\n",
       "      <td>5171</td>\n",
       "      <td>129019</td>\n",
       "      <td>271</td>\n",
       "      <td>7477</td>\n",
       "      <td>unlock</td>\n",
       "    </tr>\n",
       "    <tr>\n",
       "      <th>174</th>\n",
       "      <td>2020-06-09</td>\n",
       "      <td>9981</td>\n",
       "      <td>276002</td>\n",
       "      <td>5634</td>\n",
       "      <td>134653</td>\n",
       "      <td>272</td>\n",
       "      <td>7749</td>\n",
       "      <td>unlock</td>\n",
       "    </tr>\n",
       "    <tr>\n",
       "      <th>175</th>\n",
       "      <td>2020-06-10</td>\n",
       "      <td>11156</td>\n",
       "      <td>287158</td>\n",
       "      <td>6275</td>\n",
       "      <td>140928</td>\n",
       "      <td>358</td>\n",
       "      <td>8107</td>\n",
       "      <td>unlock</td>\n",
       "    </tr>\n",
       "  </tbody>\n",
       "</table>\n",
       "<p>176 rows × 8 columns</p>\n",
       "</div>"
      ],
      "text/plain": [
       "    date_of_obs  daily_confirmed  total_confirmed  daily_recovered  \\\n",
       "0    2020-03-15               10              112                3   \n",
       "1    2020-03-16               14              126                1   \n",
       "2    2020-03-17               20              146                1   \n",
       "3    2020-03-18               25              171                0   \n",
       "4    2020-03-19               27              198                5   \n",
       "..          ...              ...              ...              ...   \n",
       "171  2020-06-06            10408           246603             5433   \n",
       "172  2020-06-07            10882           257485             5191   \n",
       "173  2020-06-08             8536           266021             5171   \n",
       "174  2020-06-09             9981           276002             5634   \n",
       "175  2020-06-10            11156           287158             6275   \n",
       "\n",
       "     total_recovered  daily_deaths  total_deaths unlock_or_lock  \n",
       "0                 13             0             2         unlock  \n",
       "1                 15             1             3         unlock  \n",
       "2                 15             1             3         unlock  \n",
       "3                 15             0             3         unlock  \n",
       "4                 20             1             4         unlock  \n",
       "..               ...           ...           ...            ...  \n",
       "171           118657           297          6945         unlock  \n",
       "172           123848           261          7206         unlock  \n",
       "173           129019           271          7477         unlock  \n",
       "174           134653           272          7749         unlock  \n",
       "175           140928           358          8107         unlock  \n",
       "\n",
       "[176 rows x 8 columns]"
      ]
     },
     "metadata": {},
     "output_type": "display_data"
    }
   ],
   "source": [
    "#creating data frame\n",
    "from_db = [] #creating an empty list\n",
    "for result in results:\n",
    "    result = list(result)\n",
    "    from_db.append(result)\n",
    "columns = [\"date_of_obs\", \"daily_confirmed\" ,\"total_confirmed\" ,\"daily_recovered\",\"total_recovered\",\"daily_deaths\",\"total_deaths\", \"unlock_or_lock\"]\n",
    "#using pandas inbuilt function to convert list to data frame\n",
    "df = pd.DataFrame(from_db, columns = columns)\n",
    "display(df)"
   ]
  },
  {
   "cell_type": "code",
   "execution_count": 13,
   "id": "2d1aecd0",
   "metadata": {},
   "outputs": [
    {
     "data": {
      "text/html": [
       "<div>\n",
       "<style scoped>\n",
       "    .dataframe tbody tr th:only-of-type {\n",
       "        vertical-align: middle;\n",
       "    }\n",
       "\n",
       "    .dataframe tbody tr th {\n",
       "        vertical-align: top;\n",
       "    }\n",
       "\n",
       "    .dataframe thead th {\n",
       "        text-align: right;\n",
       "    }\n",
       "</style>\n",
       "<table border=\"1\" class=\"dataframe\">\n",
       "  <thead>\n",
       "    <tr style=\"text-align: right;\">\n",
       "      <th></th>\n",
       "      <th>date_of_obs</th>\n",
       "      <th>daily_confirmed</th>\n",
       "      <th>total_confirmed</th>\n",
       "      <th>daily_recovered</th>\n",
       "      <th>total_recovered</th>\n",
       "      <th>daily_deaths</th>\n",
       "      <th>total_deaths</th>\n",
       "      <th>unlock_or_lock</th>\n",
       "    </tr>\n",
       "  </thead>\n",
       "  <tbody>\n",
       "    <tr>\n",
       "      <th>0</th>\n",
       "      <td>2020-03-15</td>\n",
       "      <td>10</td>\n",
       "      <td>112</td>\n",
       "      <td>3</td>\n",
       "      <td>13</td>\n",
       "      <td>0</td>\n",
       "      <td>2</td>\n",
       "      <td>unlock</td>\n",
       "    </tr>\n",
       "    <tr>\n",
       "      <th>1</th>\n",
       "      <td>2020-03-16</td>\n",
       "      <td>14</td>\n",
       "      <td>126</td>\n",
       "      <td>1</td>\n",
       "      <td>15</td>\n",
       "      <td>1</td>\n",
       "      <td>3</td>\n",
       "      <td>unlock</td>\n",
       "    </tr>\n",
       "    <tr>\n",
       "      <th>2</th>\n",
       "      <td>2020-03-17</td>\n",
       "      <td>20</td>\n",
       "      <td>146</td>\n",
       "      <td>1</td>\n",
       "      <td>15</td>\n",
       "      <td>1</td>\n",
       "      <td>3</td>\n",
       "      <td>unlock</td>\n",
       "    </tr>\n",
       "    <tr>\n",
       "      <th>3</th>\n",
       "      <td>2020-03-18</td>\n",
       "      <td>25</td>\n",
       "      <td>171</td>\n",
       "      <td>0</td>\n",
       "      <td>15</td>\n",
       "      <td>0</td>\n",
       "      <td>3</td>\n",
       "      <td>unlock</td>\n",
       "    </tr>\n",
       "    <tr>\n",
       "      <th>4</th>\n",
       "      <td>2020-03-19</td>\n",
       "      <td>27</td>\n",
       "      <td>198</td>\n",
       "      <td>5</td>\n",
       "      <td>20</td>\n",
       "      <td>1</td>\n",
       "      <td>4</td>\n",
       "      <td>unlock</td>\n",
       "    </tr>\n",
       "  </tbody>\n",
       "</table>\n",
       "</div>"
      ],
      "text/plain": [
       "  date_of_obs  daily_confirmed  total_confirmed  daily_recovered  \\\n",
       "0  2020-03-15               10              112                3   \n",
       "1  2020-03-16               14              126                1   \n",
       "2  2020-03-17               20              146                1   \n",
       "3  2020-03-18               25              171                0   \n",
       "4  2020-03-19               27              198                5   \n",
       "\n",
       "   total_recovered  daily_deaths  total_deaths unlock_or_lock  \n",
       "0               13             0             2         unlock  \n",
       "1               15             1             3         unlock  \n",
       "2               15             1             3         unlock  \n",
       "3               15             0             3         unlock  \n",
       "4               20             1             4         unlock  "
      ]
     },
     "execution_count": 13,
     "metadata": {},
     "output_type": "execute_result"
    }
   ],
   "source": [
    "df.head() "
   ]
  },
  {
   "cell_type": "code",
   "execution_count": 14,
   "id": "6accfef0",
   "metadata": {},
   "outputs": [
    {
     "data": {
      "text/plain": [
       "(176, 8)"
      ]
     },
     "execution_count": 14,
     "metadata": {},
     "output_type": "execute_result"
    }
   ],
   "source": [
    "df.shape "
   ]
  },
  {
   "cell_type": "code",
   "execution_count": 15,
   "id": "e65eca13",
   "metadata": {},
   "outputs": [
    {
     "data": {
      "text/html": [
       "<div>\n",
       "<style scoped>\n",
       "    .dataframe tbody tr th:only-of-type {\n",
       "        vertical-align: middle;\n",
       "    }\n",
       "\n",
       "    .dataframe tbody tr th {\n",
       "        vertical-align: top;\n",
       "    }\n",
       "\n",
       "    .dataframe thead th {\n",
       "        text-align: right;\n",
       "    }\n",
       "</style>\n",
       "<table border=\"1\" class=\"dataframe\">\n",
       "  <thead>\n",
       "    <tr style=\"text-align: right;\">\n",
       "      <th></th>\n",
       "      <th>daily_confirmed</th>\n",
       "      <th>total_confirmed</th>\n",
       "      <th>daily_recovered</th>\n",
       "      <th>total_recovered</th>\n",
       "      <th>daily_deaths</th>\n",
       "      <th>total_deaths</th>\n",
       "    </tr>\n",
       "  </thead>\n",
       "  <tbody>\n",
       "    <tr>\n",
       "      <th>count</th>\n",
       "      <td>176.000000</td>\n",
       "      <td>176.000000</td>\n",
       "      <td>176.000000</td>\n",
       "      <td>176.00000</td>\n",
       "      <td>176.000000</td>\n",
       "      <td>176.000000</td>\n",
       "    </tr>\n",
       "    <tr>\n",
       "      <th>mean</th>\n",
       "      <td>3262.500000</td>\n",
       "      <td>67812.500000</td>\n",
       "      <td>1601.340909</td>\n",
       "      <td>28103.12500</td>\n",
       "      <td>92.000000</td>\n",
       "      <td>1986.193182</td>\n",
       "    </tr>\n",
       "    <tr>\n",
       "      <th>std</th>\n",
       "      <td>3269.472677</td>\n",
       "      <td>80653.889407</td>\n",
       "      <td>2048.283629</td>\n",
       "      <td>39285.94375</td>\n",
       "      <td>88.607513</td>\n",
       "      <td>2283.667771</td>\n",
       "    </tr>\n",
       "    <tr>\n",
       "      <th>min</th>\n",
       "      <td>10.000000</td>\n",
       "      <td>112.000000</td>\n",
       "      <td>0.000000</td>\n",
       "      <td>13.00000</td>\n",
       "      <td>0.000000</td>\n",
       "      <td>2.000000</td>\n",
       "    </tr>\n",
       "    <tr>\n",
       "      <th>25%</th>\n",
       "      <td>571.000000</td>\n",
       "      <td>4656.000000</td>\n",
       "      <td>62.750000</td>\n",
       "      <td>377.75000</td>\n",
       "      <td>19.000000</td>\n",
       "      <td>130.000000</td>\n",
       "    </tr>\n",
       "    <tr>\n",
       "      <th>50%</th>\n",
       "      <td>1753.000000</td>\n",
       "      <td>30409.000000</td>\n",
       "      <td>639.000000</td>\n",
       "      <td>7421.00000</td>\n",
       "      <td>64.000000</td>\n",
       "      <td>910.000000</td>\n",
       "    </tr>\n",
       "    <tr>\n",
       "      <th>75%</th>\n",
       "      <td>5766.750000</td>\n",
       "      <td>107910.000000</td>\n",
       "      <td>3017.000000</td>\n",
       "      <td>43087.25000</td>\n",
       "      <td>142.000000</td>\n",
       "      <td>3334.500000</td>\n",
       "    </tr>\n",
       "    <tr>\n",
       "      <th>max</th>\n",
       "      <td>11156.000000</td>\n",
       "      <td>287158.000000</td>\n",
       "      <td>11735.000000</td>\n",
       "      <td>140928.00000</td>\n",
       "      <td>358.000000</td>\n",
       "      <td>8107.000000</td>\n",
       "    </tr>\n",
       "  </tbody>\n",
       "</table>\n",
       "</div>"
      ],
      "text/plain": [
       "       daily_confirmed  total_confirmed  daily_recovered  total_recovered  \\\n",
       "count       176.000000       176.000000       176.000000        176.00000   \n",
       "mean       3262.500000     67812.500000      1601.340909      28103.12500   \n",
       "std        3269.472677     80653.889407      2048.283629      39285.94375   \n",
       "min          10.000000       112.000000         0.000000         13.00000   \n",
       "25%         571.000000      4656.000000        62.750000        377.75000   \n",
       "50%        1753.000000     30409.000000       639.000000       7421.00000   \n",
       "75%        5766.750000    107910.000000      3017.000000      43087.25000   \n",
       "max       11156.000000    287158.000000     11735.000000     140928.00000   \n",
       "\n",
       "       daily_deaths  total_deaths  \n",
       "count    176.000000    176.000000  \n",
       "mean      92.000000   1986.193182  \n",
       "std       88.607513   2283.667771  \n",
       "min        0.000000      2.000000  \n",
       "25%       19.000000    130.000000  \n",
       "50%       64.000000    910.000000  \n",
       "75%      142.000000   3334.500000  \n",
       "max      358.000000   8107.000000  "
      ]
     },
     "execution_count": 15,
     "metadata": {},
     "output_type": "execute_result"
    }
   ],
   "source": [
    "df.describe() #checking for mathematical values"
   ]
  },
  {
   "cell_type": "code",
   "execution_count": 16,
   "id": "6701c065",
   "metadata": {},
   "outputs": [
    {
     "data": {
      "text/plain": [
       "date_of_obs        0\n",
       "daily_confirmed    0\n",
       "total_confirmed    0\n",
       "daily_recovered    0\n",
       "total_recovered    0\n",
       "daily_deaths       0\n",
       "total_deaths       0\n",
       "unlock_or_lock     0\n",
       "dtype: int64"
      ]
     },
     "execution_count": 16,
     "metadata": {},
     "output_type": "execute_result"
    }
   ],
   "source": [
    "df.isnull().sum() #looking for any null values in the data table"
   ]
  },
  {
   "cell_type": "code",
   "execution_count": 17,
   "id": "abff76d1",
   "metadata": {},
   "outputs": [
    {
     "data": {
      "text/plain": [
       "<seaborn.axisgrid.FacetGrid at 0x1efe5015d90>"
      ]
     },
     "execution_count": 17,
     "metadata": {},
     "output_type": "execute_result"
    },
    {
     "data": {
      "image/png": "[encoded data removed]",
      "text/plain": [
       "<Figure size 360x360 with 1 Axes>"
      ]
     },
     "metadata": {
      "needs_background": "light"
     },
     "output_type": "display_data"
    }
   ],
   "source": [
    "sns.relplot(x='date_of_obs', y='daily_confirmed', data=df) "
   ]
  },
  {
   "cell_type": "code",
   "execution_count": 18,
   "id": "b8acf6d4",
   "metadata": {},
   "outputs": [
    {
     "data": {
      "text/plain": [
       "<seaborn.axisgrid.FacetGrid at 0x1efe903fcd0>"
      ]
     },
     "execution_count": 18,
     "metadata": {},
     "output_type": "execute_result"
    },
    {
     "data": {
      "image/png": "[encoded data removed]",
      "text/plain": [
       "<Figure size 360x360 with 1 Axes>"
      ]
     },
     "metadata": {
      "needs_background": "light"
     },
     "output_type": "display_data"
    }
   ],
   "source": [
    "sns.relplot(x='date_of_obs', y='daily_recovered', data=df)"
   ]
  },
  {
   "cell_type": "code",
   "execution_count": 19,
   "id": "fd742e01",
   "metadata": {},
   "outputs": [
    {
     "data": {
      "text/plain": [
       "<seaborn.axisgrid.FacetGrid at 0x1efea933df0>"
      ]
     },
     "execution_count": 19,
     "metadata": {},
     "output_type": "execute_result"
    },
    {
     "data": {
      "image/png": "[encoded data removed]",
      "text/plain": [
       "<Figure size 360x360 with 1 Axes>"
      ]
     },
     "metadata": {
      "needs_background": "light"
     },
     "output_type": "display_data"
    }
   ],
   "source": [
    "sns.relplot(x='date_of_obs', y='daily_deaths', data=df)"
   ]
  },
  {
   "cell_type": "code",
   "execution_count": 20,
   "id": "5bca7d73",
   "metadata": {},
   "outputs": [
    {
     "data": {
      "text/plain": [
       "<seaborn.axisgrid.PairGrid at 0x1efea8da0d0>"
      ]
     },
     "execution_count": 20,
     "metadata": {},
     "output_type": "execute_result"
    },
    {
     "data": {
      "image/png": "[encoded data removed]",
      "text/plain": [
       "<Figure size 1080x1080 with 42 Axes>"
      ]
     },
     "metadata": {
      "needs_background": "light"
     },
     "output_type": "display_data"
    }
   ],
   "source": [
    "sns.pairplot(df)"
   ]
  },
  {
   "cell_type": "code",
   "execution_count": 21,
   "id": "9a7abf33",
   "metadata": {},
   "outputs": [
    {
     "data": {
      "text/plain": [
       "date_of_obs        object\n",
       "daily_confirmed     int64\n",
       "total_confirmed     int64\n",
       "daily_recovered     int64\n",
       "total_recovered     int64\n",
       "daily_deaths        int64\n",
       "total_deaths        int64\n",
       "unlock_or_lock     object\n",
       "dtype: object"
      ]
     },
     "execution_count": 21,
     "metadata": {},
     "output_type": "execute_result"
    }
   ],
   "source": [
    "df.dtypes"
   ]
  },
  {
   "cell_type": "code",
   "execution_count": 72,
   "id": "c7b924ab",
   "metadata": {},
   "outputs": [],
   "source": [
    "df.unlock_or_lock.replace(('lockdown','unlock'), (0,1), inplace=True)"
   ]
  },
  {
   "cell_type": "code",
   "execution_count": 73,
   "id": "1a25d882",
   "metadata": {},
   "outputs": [],
   "source": [
    "from sklearn.model_selection import train_test_split\n",
    "from sklearn.metrics import accuracy_score\n",
    "from sklearn.linear_model import LogisticRegression\n",
    "from sklearn.linear_model import LinearRegression\n",
    "\n",
    "import matplotlib.pyplot as plt"
   ]
  },
  {
   "cell_type": "code",
   "execution_count": 74,
   "id": "8fac2f4a",
   "metadata": {},
   "outputs": [],
   "source": [
    "#dropping dates\n",
    "train = df.drop(['date_of_obs','unlock_or_lock'], axis =1)\n",
    "test = df['unlock_or_lock']"
   ]
  },
  {
   "cell_type": "code",
   "execution_count": 82,
   "id": "16390047",
   "metadata": {},
   "outputs": [],
   "source": [
    "X_train, X_test, y_train, y_test = train_test_split(train, test, test_size=0.3, random_state=2)"
   ]
  },
  {
   "cell_type": "code",
   "execution_count": 83,
   "id": "e750e104",
   "metadata": {},
   "outputs": [],
   "source": [
    "regr = LogisticRegression()"
   ]
  },
  {
   "cell_type": "code",
   "execution_count": 84,
   "id": "1280dbe9",
   "metadata": {},
   "outputs": [
    {
     "name": "stderr",
     "output_type": "stream",
     "text": [
      "C:\\Users\\HP\\anaconda3\\lib\\site-packages\\sklearn\\linear_model\\_logistic.py:763: ConvergenceWarning: lbfgs failed to converge (status=1):\n",
      "STOP: TOTAL NO. of ITERATIONS REACHED LIMIT.\n",
      "\n",
      "Increase the number of iterations (max_iter) or scale the data as shown in:\n",
      "    https://scikit-learn.org/stable/modules/preprocessing.html\n",
      "Please also refer to the documentation for alternative solver options:\n",
      "    https://scikit-learn.org/stable/modules/linear_model.html#logistic-regression\n",
      "  n_iter_i = _check_optimize_result(\n"
     ]
    },
    {
     "data": {
      "text/plain": [
       "LogisticRegression()"
      ]
     },
     "execution_count": 84,
     "metadata": {},
     "output_type": "execute_result"
    }
   ],
   "source": [
    "regr.fit(X_train, y_train)"
   ]
  },
  {
   "cell_type": "code",
   "execution_count": 85,
   "id": "1b2b70f9",
   "metadata": {},
   "outputs": [],
   "source": [
    "pred = regr.predict(X_test)"
   ]
  },
  {
   "cell_type": "code",
   "execution_count": 86,
   "id": "06a637c7",
   "metadata": {},
   "outputs": [
    {
     "data": {
      "text/plain": [
       "array([0, 0, 0, 0, 0, 0, 0, 0, 0, 0, 0, 1, 1, 0, 0, 0, 0, 1, 0, 0, 0, 0,\n",
       "       0, 0, 1, 0, 1, 0, 0, 0, 1, 0, 0, 0, 0, 0, 0, 0, 0, 1, 0, 0, 1, 0,\n",
       "       1, 0, 0, 0, 0, 0, 0, 0, 0], dtype=int64)"
      ]
     },
     "execution_count": 86,
     "metadata": {},
     "output_type": "execute_result"
    }
   ],
   "source": [
    "pred"
   ]
  },
  {
   "cell_type": "code",
   "execution_count": 87,
   "id": "cea5115e",
   "metadata": {},
   "outputs": [
    {
     "data": {
      "text/plain": [
       "0.9811320754716981"
      ]
     },
     "execution_count": 87,
     "metadata": {},
     "output_type": "execute_result"
    }
   ],
   "source": [
    "regr.score(X_test, y_test)"
   ]
  },
  {
   "cell_type": "code",
   "execution_count": null,
   "id": "7a4240ee",
   "metadata": {},
   "outputs": [],
   "source": []
  }
 ],
 "metadata": {
  "kernelspec": {
   "display_name": "Python 3",
   "language": "python",
   "name": "python3"
  },
  "language_info": {
   "codemirror_mode": {
    "name": "ipython",
    "version": 3
   },
   "file_extension": ".py",
   "mimetype": "text/x-python",
   "name": "python",
   "nbconvert_exporter": "python",
   "pygments_lexer": "ipython3",
   "version": "3.8.8"
  }
 },
 "nbformat": 4,
 "nbformat_minor": 5
}
